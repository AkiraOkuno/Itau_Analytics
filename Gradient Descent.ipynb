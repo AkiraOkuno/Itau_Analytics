{
 "cells": [
  {
   "cell_type": "markdown",
   "metadata": {},
   "source": [
    "# Gradient Descent Implementation\n",
    "\n",
    "Implement GD with different learning rates to minimise functions of the form $f(x)=\\sum_{i=1}^{n}a_ix_i²$"
   ]
  },
  {
   "cell_type": "code",
   "execution_count": 29,
   "metadata": {},
   "outputs": [],
   "source": [
    "import numpy as np"
   ]
  },
  {
   "cell_type": "code",
   "execution_count": 269,
   "metadata": {},
   "outputs": [],
   "source": [
    "class f:\n",
    "    def __init__(self, list_of_parameters, initial_inputs):\n",
    "        self.params = np.array(list_of_parameters)\n",
    "        self.inputs = np.array(initial_inputs)\n",
    "    \n",
    "    def update_inputs(self, list_of_inputs):\n",
    "        self.inputs = np.array(list_of_inputs)\n",
    "        return self\n",
    "        \n",
    "    def evaluate(self):\n",
    "        return self.params.dot(self.inputs ** 2)\n",
    "    \n",
    "    def gradient(self):\n",
    "        return 2 * self.inputs * self.params\n",
    "        \n",
    "    def hessian(self):\n",
    "        dim = len(self.params)\n",
    "        hess = np.zeros((dim,dim))\n",
    "        np.fill_diagonal(hess, 2 * self.params)\n",
    "        return hess"
   ]
  },
  {
   "cell_type": "code",
   "execution_count": 108,
   "metadata": {},
   "outputs": [],
   "source": [
    "func = f([5,3],[5,6])"
   ]
  },
  {
   "cell_type": "code",
   "execution_count": 109,
   "metadata": {},
   "outputs": [
    {
     "data": {
      "text/plain": [
       "array([5, 3])"
      ]
     },
     "execution_count": 109,
     "metadata": {},
     "output_type": "execute_result"
    }
   ],
   "source": [
    "func.params"
   ]
  },
  {
   "cell_type": "code",
   "execution_count": 110,
   "metadata": {},
   "outputs": [
    {
     "data": {
      "text/plain": [
       "array([5, 6])"
      ]
     },
     "execution_count": 110,
     "metadata": {},
     "output_type": "execute_result"
    }
   ],
   "source": [
    "func.inputs"
   ]
  },
  {
   "cell_type": "code",
   "execution_count": 111,
   "metadata": {},
   "outputs": [
    {
     "data": {
      "text/plain": [
       "233"
      ]
     },
     "execution_count": 111,
     "metadata": {},
     "output_type": "execute_result"
    }
   ],
   "source": [
    "func.evaluate()"
   ]
  },
  {
   "cell_type": "code",
   "execution_count": 112,
   "metadata": {},
   "outputs": [],
   "source": [
    "func.update_inputs([1,0.5])"
   ]
  },
  {
   "cell_type": "code",
   "execution_count": 113,
   "metadata": {},
   "outputs": [
    {
     "data": {
      "text/plain": [
       "array([1. , 0.5])"
      ]
     },
     "execution_count": 113,
     "metadata": {},
     "output_type": "execute_result"
    }
   ],
   "source": [
    "func.inputs"
   ]
  },
  {
   "cell_type": "code",
   "execution_count": 114,
   "metadata": {},
   "outputs": [
    {
     "data": {
      "text/plain": [
       "5.75"
      ]
     },
     "execution_count": 114,
     "metadata": {},
     "output_type": "execute_result"
    }
   ],
   "source": [
    "func.evaluate()"
   ]
  },
  {
   "cell_type": "code",
   "execution_count": 115,
   "metadata": {},
   "outputs": [
    {
     "data": {
      "text/plain": [
       "array([10.,  3.])"
      ]
     },
     "execution_count": 115,
     "metadata": {},
     "output_type": "execute_result"
    }
   ],
   "source": [
    "func.gradient()"
   ]
  },
  {
   "cell_type": "code",
   "execution_count": 116,
   "metadata": {},
   "outputs": [
    {
     "data": {
      "text/plain": [
       "array([[10.,  0.],\n",
       "       [ 0.,  6.]])"
      ]
     },
     "execution_count": 116,
     "metadata": {},
     "output_type": "execute_result"
    }
   ],
   "source": [
    "func.hessian()"
   ]
  },
  {
   "cell_type": "markdown",
   "metadata": {},
   "source": [
    "Let's try to minimise $f(x)=\\sum_{i=1}^{10}x_i^2$, which obviously should have as solution the zero vector. At first, we'll use the fixed learning rate approach."
   ]
  },
  {
   "cell_type": "code",
   "execution_count": 182,
   "metadata": {},
   "outputs": [],
   "source": [
    "def gradient_descent_PF_with_print(f_params, initial_inputs, t):\n",
    "    k=0\n",
    "    x = initial_inputs\n",
    "    func = f(f_params, x)\n",
    "    \n",
    "    while (np.linalg.norm(func.gradient()) > 0.000000001 and k < 10001):\n",
    "        dk = func.gradient()\n",
    "        x_next = x - t*dk\n",
    "        func.update_inputs(x_next)\n",
    "        x = x_next.copy()\n",
    "        k = k + 1\n",
    "        \n",
    "        if k % 25 == 0:\n",
    "            print('Iteration number {}'.format(k) + \":\")\n",
    "            print('The current value of f is {}'.format(func.evaluate()))\n",
    "            print('The current value of the norm of the gradient of f is {}'.format(np.linalg.norm(func.gradient())))\n",
    "            print('')\n",
    "    \n",
    "    print('-----------------------------------------------------------------------')\n",
    "    print('The process ended in the iteration of number {} '.format(k))\n",
    "    print('The current value of f is {}'.format(func.evaluate()))\n",
    "    print('The current value of the norm of the gradient of f is {}'.format(np.linalg.norm(func.gradient())))\n",
    "    return(x,k)"
   ]
  },
  {
   "cell_type": "code",
   "execution_count": 183,
   "metadata": {},
   "outputs": [],
   "source": [
    "def gradient_descent_PF(f_params, initial_inputs, t):\n",
    "    k=0\n",
    "    x = initial_inputs\n",
    "    func = f(f_params, x)\n",
    "    \n",
    "    while (np.linalg.norm(func.gradient()) > 0.000000001 and k < 10001):\n",
    "        dk = func.gradient()\n",
    "        x_next = x - t*dk\n",
    "        func.update_inputs(x_next)\n",
    "        x = x_next.copy()\n",
    "        k = k + 1\n",
    "\n",
    "    return(x,k)"
   ]
  },
  {
   "cell_type": "code",
   "execution_count": 184,
   "metadata": {},
   "outputs": [
    {
     "name": "stdout",
     "output_type": "stream",
     "text": [
      "Iteration number 25:\n",
      "The current value of f is 1.123522995195784\n",
      "The current value of the norm of the gradient of f is 2.119927352713563\n",
      "\n",
      "Iteration number 50:\n",
      "The current value of f is 0.005790384957494062\n",
      "The current value of the norm of the gradient of f is 0.15218915805659827\n",
      "\n",
      "Iteration number 75:\n",
      "The current value of f is 2.9842342434772212e-05\n",
      "The current value of the norm of the gradient of f is 0.010925629031734916\n",
      "\n",
      "Iteration number 100:\n",
      "The current value of f is 1.5380072456868595e-07\n",
      "The current value of the norm of the gradient of f is 0.0007843487096150179\n",
      "\n",
      "Iteration number 125:\n",
      "The current value of f is 7.926543611499628e-10\n",
      "The current value of the norm of the gradient of f is 5.630823602813225e-05\n",
      "\n",
      "Iteration number 150:\n",
      "The current value of f is 4.08516239446884e-12\n",
      "The current value of the norm of the gradient of f is 4.0423569335074015e-06\n",
      "\n",
      "Iteration number 175:\n",
      "The current value of f is 2.105400866648997e-14\n",
      "The current value of the norm of the gradient of f is 2.901999908097171e-07\n",
      "\n",
      "Iteration number 200:\n",
      "The current value of f is 1.0850762788005882e-16\n",
      "The current value of the norm of the gradient of f is 2.0833398943049002e-08\n",
      "\n",
      "Iteration number 225:\n",
      "The current value of f is 5.592239223733636e-19\n",
      "The current value of the norm of the gradient of f is 1.4956255177996444e-09\n",
      "\n",
      "-----------------------------------------------------------------------\n",
      "The process ended in the iteration of number 229 \n",
      "The current value of f is 2.407275616293184e-19\n",
      "The current value of the norm of the gradient of f is 9.812799022283467e-10\n"
     ]
    },
    {
     "data": {
      "text/plain": [
       "(array([1.99381983e-10, 2.32612314e-10, 9.96909917e-11, 2.99072975e-10,\n",
       "        9.96909917e-11, 1.32921322e-10, 3.32303306e-11, 3.32303306e-11,\n",
       "        0.00000000e+00, 1.32921322e-10]), 229)"
      ]
     },
     "execution_count": 184,
     "metadata": {},
     "output_type": "execute_result"
    }
   ],
   "source": [
    "gradient_descent_PF_with_print([1,1,1,1,1,1,1,1,1,1],[6,7,3,9,3,4,1,1,0,4],0.05)"
   ]
  },
  {
   "cell_type": "code",
   "execution_count": 185,
   "metadata": {},
   "outputs": [],
   "source": [
    "g01 = gradient_descent_PF([1,1,1,1,1,1,1,1,1,1],[6,7,3,9,3,4,1,1,0,4],0.1)"
   ]
  },
  {
   "cell_type": "code",
   "execution_count": 186,
   "metadata": {},
   "outputs": [],
   "source": [
    "g02 = gradient_descent_PF([1,1,1,1,1,1,1,1,1,1],[6,7,3,9,3,4,1,1,0,4],0.2)"
   ]
  },
  {
   "cell_type": "code",
   "execution_count": 187,
   "metadata": {},
   "outputs": [],
   "source": [
    "g03 = gradient_descent_PF([1,1,1,1,1,1,1,1,1,1],[6,7,3,9,3,4,1,1,0,4],0.3)"
   ]
  },
  {
   "cell_type": "code",
   "execution_count": 188,
   "metadata": {},
   "outputs": [],
   "source": [
    "g04 = gradient_descent_PF([1,1,1,1,1,1,1,1,1,1],[6,7,3,9,3,4,1,1,0,4],0.4)"
   ]
  },
  {
   "cell_type": "code",
   "execution_count": 189,
   "metadata": {},
   "outputs": [],
   "source": [
    "g05 = gradient_descent_PF([1,1,1,1,1,1,1,1,1,1],[6,7,3,9,3,4,1,1,0,4],0.5)"
   ]
  },
  {
   "cell_type": "code",
   "execution_count": 190,
   "metadata": {},
   "outputs": [],
   "source": [
    "g075 = gradient_descent_PF([1,1,1,1,1,1,1,1,1,1],[6,7,3,9,3,4,1,1,0,4],0.75)"
   ]
  },
  {
   "cell_type": "code",
   "execution_count": 191,
   "metadata": {},
   "outputs": [],
   "source": [
    "g09 = gradient_descent_PF([1,1,1,1,1,1,1,1,1,1],[6,7,3,9,3,4,1,1,0,4],0.9)"
   ]
  },
  {
   "cell_type": "code",
   "execution_count": 192,
   "metadata": {},
   "outputs": [],
   "source": [
    "g1 = gradient_descent_PF([1,1,1,1,1,1,1,1,1,1],[6,7,3,9,3,4,1,1,0,4],1)"
   ]
  },
  {
   "cell_type": "code",
   "execution_count": 194,
   "metadata": {},
   "outputs": [
    {
     "data": {
      "text/plain": [
       "(109, 48, 27, 15, 1, 35, 109, 10001)"
      ]
     },
     "execution_count": 194,
     "metadata": {},
     "output_type": "execute_result"
    }
   ],
   "source": [
    "g01[1], g02[1], g03[1], g04[1], g05[1], g075[1], g09[1], g1[1]"
   ]
  },
  {
   "cell_type": "markdown",
   "metadata": {},
   "source": [
    "Let's calculate the learning rate in an optimal rate for this fixed method. That is, $t=\\frac{2}{\\mu+L}$, such that $\\mu$ is the smaller eigenvalue of the Hessian Matrix of $f$, and $L$ is the greater eigenvalue."
   ]
  },
  {
   "cell_type": "code",
   "execution_count": 212,
   "metadata": {},
   "outputs": [],
   "source": [
    "def gradient_descent_PF_optimal(f_params, initial_inputs):\n",
    "    k=0\n",
    "    x = initial_inputs\n",
    "    func = f(f_params, x)\n",
    "    \n",
    "    eigenvals = np.linalg.eig(func.hessian())[0]\n",
    "    eigenmax = eigenvals.max()\n",
    "    eigenmin = eigenvals.min()\n",
    "    t = 2/(eigenmax+eigenmin)\n",
    "    print('The optimal learning rate is: {}'.format(t))\n",
    "    \n",
    "    while (np.linalg.norm(func.gradient()) > 0.000000001 and k < 10001):\n",
    "        dk = func.gradient()\n",
    "        x_next = x - t*dk\n",
    "        func.update_inputs(x_next)\n",
    "        x = x_next.copy()\n",
    "        k = k + 1\n",
    "    \n",
    "    print('The process converged in the interation: {}'.format(k))\n",
    "    return(x,k)"
   ]
  },
  {
   "cell_type": "code",
   "execution_count": 213,
   "metadata": {},
   "outputs": [
    {
     "name": "stdout",
     "output_type": "stream",
     "text": [
      "The optimal learning rate is: 0.5\n",
      "The process converged in the interation: 1\n"
     ]
    },
    {
     "data": {
      "text/plain": [
       "1"
      ]
     },
     "execution_count": 213,
     "metadata": {},
     "output_type": "execute_result"
    }
   ],
   "source": [
    "gradient_descent_PF_optimal([1,1,1,1,1,1,1,1,1,1],[6,7,3,9,3,4,1,1,0,4])[1]"
   ]
  },
  {
   "cell_type": "code",
   "execution_count": 256,
   "metadata": {},
   "outputs": [],
   "source": [
    "def gradient_descent_PF(f_params, initial_inputs, t_option):\n",
    "    '''\n",
    "    choose t_option:\n",
    "    A: 2/(L+mu)\n",
    "    B: 1/L\n",
    "    else: personal input\n",
    "    '''\n",
    "    k=0\n",
    "    x = initial_inputs\n",
    "    func = f(f_params, x)\n",
    "    \n",
    "    eigenvals = np.linalg.eig(func.hessian())[0]\n",
    "    eigenmax = eigenvals.max()\n",
    "    eigenmin = eigenvals.min()\n",
    "    \n",
    "    if t_option == 'A':\n",
    "        t = 2/(eigenmax+eigenmin)\n",
    "    elif t_option == 'B':\n",
    "        t = 1/eigenmax\n",
    "    else:\n",
    "        t = t_option\n",
    "        \n",
    "    print('The learning rate is: {}'.format(t))\n",
    "    \n",
    "    while (np.linalg.norm(func.gradient()) > 0.000000001 and k < 10001):\n",
    "        dk = func.gradient()\n",
    "        x_next = x - t*dk\n",
    "        func.update_inputs(x_next)\n",
    "        x = x_next.copy()\n",
    "        k = k + 1\n",
    "    \n",
    "    print('The process converged in the interation: {}'.format(k))\n",
    "    print('The final value of f was: {}'.format(func.evaluate()))\n",
    "    return(x,k)"
   ]
  },
  {
   "cell_type": "code",
   "execution_count": 243,
   "metadata": {},
   "outputs": [],
   "source": [
    "#NEW FUNCTION"
   ]
  },
  {
   "cell_type": "code",
   "execution_count": 257,
   "metadata": {},
   "outputs": [
    {
     "name": "stdout",
     "output_type": "stream",
     "text": [
      "The learning rate is: 0.09090909090909091\n",
      "The process converged in the interation: 132\n",
      "The final value of f was: 1.841294249224644e-20\n"
     ]
    },
    {
     "data": {
      "text/plain": [
       "132"
      ]
     },
     "execution_count": 257,
     "metadata": {},
     "output_type": "execute_result"
    }
   ],
   "source": [
    "gradient_descent_PF([10,10,10,10,10,1,1,1,1,1],[6,7,3,9,3,4,1,1,0,4],'A')[1]"
   ]
  },
  {
   "cell_type": "code",
   "execution_count": 258,
   "metadata": {},
   "outputs": [
    {
     "name": "stdout",
     "output_type": "stream",
     "text": [
      "The learning rate is: 0.05\n",
      "The process converged in the interation: 221\n",
      "The final value of f was: 2.026133649330505e-19\n"
     ]
    },
    {
     "data": {
      "text/plain": [
       "221"
      ]
     },
     "execution_count": 258,
     "metadata": {},
     "output_type": "execute_result"
    }
   ],
   "source": [
    "gradient_descent_PF([10,10,10,10,10,1,1,1,1,1],[6,7,3,9,3,4,1,1,0,4],'B')[1]"
   ]
  },
  {
   "cell_type": "code",
   "execution_count": 259,
   "metadata": {},
   "outputs": [
    {
     "name": "stdout",
     "output_type": "stream",
     "text": [
      "The learning rate is: 0.009900990099009901\n",
      "The process converged in the interation: 1432\n",
      "The final value of f was: 2.4456955708594068e-21\n"
     ]
    },
    {
     "data": {
      "text/plain": [
       "1432"
      ]
     },
     "execution_count": 259,
     "metadata": {},
     "output_type": "execute_result"
    }
   ],
   "source": [
    "gradient_descent_PF([100,100,100,100,100,1,1,1,1,1],[6,7,3,9,3,4,1,1,0,4],'A')[1]"
   ]
  },
  {
   "cell_type": "code",
   "execution_count": 260,
   "metadata": {},
   "outputs": [
    {
     "name": "stdout",
     "output_type": "stream",
     "text": [
      "The learning rate is: 0.05\n",
      "The process converged in the interation: 221\n",
      "The final value of f was: 2.026133649330505e-19\n"
     ]
    },
    {
     "data": {
      "text/plain": [
       "221"
      ]
     },
     "execution_count": 260,
     "metadata": {},
     "output_type": "execute_result"
    }
   ],
   "source": [
    "gradient_descent_PF([10,10,10,10,10,1,1,1,1,1],[6,7,3,9,3,4,1,1,0,4],'B')[1]"
   ]
  },
  {
   "cell_type": "code",
   "execution_count": 261,
   "metadata": {},
   "outputs": [
    {
     "name": "stdout",
     "output_type": "stream",
     "text": [
      "The learning rate is: 0.009900990099009901\n",
      "The process converged in the interation: 1432\n",
      "The final value of f was: 2.4433074554056004e-21\n"
     ]
    },
    {
     "data": {
      "text/plain": [
       "1432"
      ]
     },
     "execution_count": 261,
     "metadata": {},
     "output_type": "execute_result"
    }
   ],
   "source": [
    "gradient_descent_PF([100,100,100,100,100,50,50,50,10,1],[6,7,3,9,3,4,1,1,0,4],'A')[1]"
   ]
  },
  {
   "cell_type": "code",
   "execution_count": 262,
   "metadata": {},
   "outputs": [
    {
     "name": "stdout",
     "output_type": "stream",
     "text": [
      "The learning rate is: 0.005\n",
      "The process converged in the interation: 2269\n",
      "The final value of f was: 2.492487944014172e-19\n"
     ]
    },
    {
     "data": {
      "text/plain": [
       "2269"
      ]
     },
     "execution_count": 262,
     "metadata": {},
     "output_type": "execute_result"
    }
   ],
   "source": [
    "gradient_descent_PF([100,100,100,100,100,50,50,50,10,1],[6,7,3,9,3,4,1,1,0,4],'B')[1]"
   ]
  },
  {
   "cell_type": "markdown",
   "metadata": {},
   "source": [
    "Now let's implement the gradient descent with linear backtracking updates for the learning rate.\n",
    "\n",
    "Do $t_k = t_k/2$ while:\n",
    "\n",
    "$f(x_k-t_kd_k) >= f(x_k)-\\alpha t_kd_k'd_k$\n",
    "\n",
    "being $d_k$ the gradient of $f$ at iteration $k$, and $t_k$ the learning rate at iteration $k$."
   ]
  },
  {
   "cell_type": "code",
   "execution_count": 299,
   "metadata": {},
   "outputs": [],
   "source": [
    "def update(func,x,t,dk):\n",
    "    return func.update_inputs(x-t*dk).evaluate()\n",
    "\n",
    "def expression(func,x,alpha,t,dk):\n",
    "    return func.update_inputs(x).evaluate() - alpha*t*func.gradient().T.dot(dk)"
   ]
  },
  {
   "cell_type": "code",
   "execution_count": 311,
   "metadata": {},
   "outputs": [],
   "source": [
    "def gradient_descent_backtracking(f_params, initial_inputs, alpha, t0):\n",
    "    k=0\n",
    "    x = initial_inputs\n",
    "    func = f(f_params, x)\n",
    "    list_t = []\n",
    "    \n",
    "    while (np.linalg.norm(func.gradient()) > 0.000000001 and k < 10001):\n",
    "        dk = func.gradient()\n",
    "        t = t0\n",
    "        \n",
    "        while (func.update_inputs(x - t*dk).evaluate() >= \n",
    "               func.update_inputs(x).evaluate() - alpha * t * func.gradient().T.dot(dk)):\n",
    "            t=t/2\n",
    "        \n",
    "        list_t.append(t)\n",
    "        \n",
    "        x_next = x - t*dk\n",
    "        func.update_inputs(x_next)\n",
    "        x = x_next.copy()\n",
    "        k = k + 1\n",
    "    \n",
    "    print('The process converged in the interation: {}'.format(k))\n",
    "    print('The final value of f was: {}'.format(func.evaluate()))\n",
    "\n",
    "    return(x,k,list_t)"
   ]
  },
  {
   "cell_type": "code",
   "execution_count": 317,
   "metadata": {},
   "outputs": [
    {
     "name": "stdout",
     "output_type": "stream",
     "text": [
      "The process converged in the interation: 2\n",
      "The final value of f was: 0.0\n"
     ]
    },
    {
     "data": {
      "text/plain": [
       "(array([0., 0.]), 2, [0.25, 0.5])"
      ]
     },
     "execution_count": 317,
     "metadata": {},
     "output_type": "execute_result"
    }
   ],
   "source": [
    "gradient_descent_backtracking([1,2], [1,2], 0.1, 1)\n",
    "#CONVERGED IN 2 ITERATIONS!!!!!!!!!!!!!!"
   ]
  },
  {
   "cell_type": "code",
   "execution_count": 318,
   "metadata": {},
   "outputs": [
    {
     "name": "stdout",
     "output_type": "stream",
     "text": [
      "The learning rate is: 0.3333333333333333\n",
      "The process converged in the interation: 21\n",
      "The final value of f was: 8.225263339969886e-20\n"
     ]
    },
    {
     "data": {
      "text/plain": [
       "(array([ 9.55990664e-11, -1.91198133e-10]), 21)"
      ]
     },
     "execution_count": 318,
     "metadata": {},
     "output_type": "execute_result"
    }
   ],
   "source": [
    "gradient_descent_PF([1,2],[1,2],'A')"
   ]
  },
  {
   "cell_type": "code",
   "execution_count": 319,
   "metadata": {},
   "outputs": [
    {
     "name": "stdout",
     "output_type": "stream",
     "text": [
      "The learning rate is: 0.25\n",
      "The process converged in the interation: 31\n",
      "The final value of f was: 2.168404344971009e-19\n"
     ]
    },
    {
     "data": {
      "text/plain": [
       "(array([4.65661287e-10, 0.00000000e+00]), 31)"
      ]
     },
     "execution_count": 319,
     "metadata": {},
     "output_type": "execute_result"
    }
   ],
   "source": [
    "gradient_descent_PF([1,2],[1,2],'B')"
   ]
  },
  {
   "cell_type": "code",
   "execution_count": 348,
   "metadata": {},
   "outputs": [
    {
     "name": "stdout",
     "output_type": "stream",
     "text": [
      "The process converged in the interation: 83\n",
      "The final value of f was: 1.437910511244278e-19\n"
     ]
    },
    {
     "data": {
      "text/plain": [
       "array([-1.26154928e-11, -1.47180749e-11, -6.30774640e-12, -1.89232392e-11,\n",
       "       -6.30774640e-12,  2.52662699e-10,  6.31656748e-11,  6.31656748e-11,\n",
       "        0.00000000e+00,  2.52662699e-10])"
      ]
     },
     "execution_count": 348,
     "metadata": {},
     "output_type": "execute_result"
    }
   ],
   "source": [
    "gradient_descent_backtracking([10,10,10,10,10,1,1,1,1,1],[6,7,3,9,3,4,1,1,0,4],0.1,1)[0]"
   ]
  },
  {
   "cell_type": "code",
   "execution_count": 320,
   "metadata": {},
   "outputs": [
    {
     "name": "stdout",
     "output_type": "stream",
     "text": [
      "The learning rate is: 0.09090909090909091\n",
      "The process converged in the interation: 132\n",
      "The final value of f was: 1.841294249224644e-20\n"
     ]
    },
    {
     "data": {
      "text/plain": [
       "132"
      ]
     },
     "execution_count": 320,
     "metadata": {},
     "output_type": "execute_result"
    }
   ],
   "source": [
    "gradient_descent_PF([10,10,10,10,10,1,1,1,1,1],[6,7,3,9,3,4,1,1,0,4],'A')[1]"
   ]
  },
  {
   "cell_type": "code",
   "execution_count": 321,
   "metadata": {},
   "outputs": [
    {
     "name": "stdout",
     "output_type": "stream",
     "text": [
      "The learning rate is: 0.05\n",
      "The process converged in the interation: 221\n",
      "The final value of f was: 2.026133649330505e-19\n"
     ]
    },
    {
     "data": {
      "text/plain": [
       "221"
      ]
     },
     "execution_count": 321,
     "metadata": {},
     "output_type": "execute_result"
    }
   ],
   "source": [
    "gradient_descent_PF([10,10,10,10,10,1,1,1,1,1],[6,7,3,9,3,4,1,1,0,4],'B')[1]"
   ]
  },
  {
   "cell_type": "code",
   "execution_count": 349,
   "metadata": {},
   "outputs": [
    {
     "name": "stdout",
     "output_type": "stream",
     "text": [
      "The process converged in the interation: 1035\n",
      "The final value of f was: 1.3435155497446874e-19\n"
     ]
    },
    {
     "data": {
      "text/plain": [
       "array([-1.14202631e-12, -1.33236403e-12, -5.71013156e-13, -1.71303947e-12,\n",
       "       -5.71013156e-13,  0.00000000e+00,  0.00000000e+00,  0.00000000e+00,\n",
       "        0.00000000e+00,  3.65629528e-10])"
      ]
     },
     "execution_count": 349,
     "metadata": {},
     "output_type": "execute_result"
    }
   ],
   "source": [
    "gradient_descent_backtracking([100,100,100,100,100,50,50,50,10,1],[6,7,3,9,3,4,1,1,0,4],0.1,1)[0]"
   ]
  },
  {
   "cell_type": "code",
   "execution_count": 350,
   "metadata": {},
   "outputs": [
    {
     "name": "stdout",
     "output_type": "stream",
     "text": [
      "The learning rate is: 0.009900990099009901\n",
      "The process converged in the interation: 1432\n",
      "The final value of f was: 2.4433074554056004e-21\n"
     ]
    },
    {
     "data": {
      "text/plain": [
       "1432"
      ]
     },
     "execution_count": 350,
     "metadata": {},
     "output_type": "execute_result"
    }
   ],
   "source": [
    "gradient_descent_PF([100,100,100,100,100,50,50,50,10,1],[6,7,3,9,3,4,1,1,0,4],'A')[1]"
   ]
  },
  {
   "cell_type": "code",
   "execution_count": 351,
   "metadata": {},
   "outputs": [
    {
     "name": "stdout",
     "output_type": "stream",
     "text": [
      "The learning rate is: 0.005\n",
      "The process converged in the interation: 2269\n",
      "The final value of f was: 2.492487944014172e-19\n"
     ]
    },
    {
     "data": {
      "text/plain": [
       "2269"
      ]
     },
     "execution_count": 351,
     "metadata": {},
     "output_type": "execute_result"
    }
   ],
   "source": [
    "gradient_descent_PF([100,100,100,100,100,50,50,50,10,1],[6,7,3,9,3,4,1,1,0,4],'B')[1]"
   ]
  }
 ],
 "metadata": {
  "kernelspec": {
   "display_name": "Python 3",
   "language": "python",
   "name": "python3"
  },
  "language_info": {
   "codemirror_mode": {
    "name": "ipython",
    "version": 3
   },
   "file_extension": ".py",
   "mimetype": "text/x-python",
   "name": "python",
   "nbconvert_exporter": "python",
   "pygments_lexer": "ipython3",
   "version": "3.6.5"
  }
 },
 "nbformat": 4,
 "nbformat_minor": 2
}
