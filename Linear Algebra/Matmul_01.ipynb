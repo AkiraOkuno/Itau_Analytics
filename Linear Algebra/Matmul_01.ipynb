{
 "cells": [
  {
   "cell_type": "markdown",
   "metadata": {},
   "source": [
    "# Naîve Matrix Multiplication"
   ]
  },
  {
   "cell_type": "code",
   "execution_count": 4,
   "metadata": {},
   "outputs": [],
   "source": [
    "import numpy as np\n",
    "\n",
    "# Generate random matrix of dimension N x k\n",
    "\n",
    "def matrix(n,k):\n",
    "    return np.random.rand(n,k)"
   ]
  },
  {
   "cell_type": "code",
   "execution_count": 20,
   "metadata": {},
   "outputs": [],
   "source": [
    "def multiply(A,B):\n",
    "    \n",
    "    # matrices must be in order of multiplication because AB ! BA\n",
    "        \n",
    "    A_rows = A.shape[0]\n",
    "    A_cols = A.shape[1]\n",
    "    B_rows = B.shape[0]\n",
    "    B_cols = B.shape[1]\n",
    "    \n",
    "    # Create empty zeroes matrix\n",
    "    \n",
    "    C = np.zeros((A_rows, B_cols))\n",
    "    \n",
    "    #check if columns(A) == rows(B)\n",
    "\n",
    "    if A_cols != B_rows:\n",
    "        print(\"Incompatible dimensions. Check if columns(A) equals row(B)\")\n",
    "    \n",
    "    #Loop in each row of A\n",
    "        #Loop in each column of b\n",
    "            #Loop in 1:n_cols_of_A (=n_rows_of_B)\n",
    "                #multiply and sum\n",
    "    \n",
    "    else:\n",
    "        for i in range(A_rows):\n",
    "            for j in range(B_cols):\n",
    "                for k in range(A_cols):\n",
    "                    C[i,j] += A[i,k]*B[k,j]\n",
    "    \n",
    "    return C"
   ]
  },
  {
   "cell_type": "code",
   "execution_count": 18,
   "metadata": {},
   "outputs": [
    {
     "data": {
      "text/plain": [
       "array([[ 1.60797302,  0.49171798,  0.65443366],\n",
       "       [ 1.27512592,  0.49326727,  0.49687351],\n",
       "       [ 1.91146173,  0.57579208,  0.80685588]])"
      ]
     },
     "execution_count": 18,
     "metadata": {},
     "output_type": "execute_result"
    }
   ],
   "source": [
    "A = matrix(3,3)\n",
    "B = matrix(3,3)\n",
    "C = A.dot(B)\n",
    "\n",
    "C"
   ]
  },
  {
   "cell_type": "code",
   "execution_count": 21,
   "metadata": {},
   "outputs": [
    {
     "data": {
      "text/plain": [
       "array([[ 1.60797302,  0.49171798,  0.65443366],\n",
       "       [ 1.27512592,  0.49326727,  0.49687351],\n",
       "       [ 1.91146173,  0.57579208,  0.80685588]])"
      ]
     },
     "execution_count": 21,
     "metadata": {},
     "output_type": "execute_result"
    }
   ],
   "source": [
    "#Check if the result matches the real value\n",
    "multiply(A,B)"
   ]
  },
  {
   "cell_type": "code",
   "execution_count": 36,
   "metadata": {},
   "outputs": [],
   "source": [
    "#sample code to store code run time\n",
    "\n",
    "import time\n",
    "\n",
    "start = time.time()\n",
    "multiply(matrix(200,200), matrix(200,200))\n",
    "time_count = time.time() - start"
   ]
  },
  {
   "cell_type": "code",
   "execution_count": 37,
   "metadata": {},
   "outputs": [
    {
     "data": {
      "text/plain": [
       "6.274398565292358"
      ]
     },
     "execution_count": 37,
     "metadata": {},
     "output_type": "execute_result"
    }
   ],
   "source": [
    "time_count"
   ]
  },
  {
   "cell_type": "code",
   "execution_count": 40,
   "metadata": {},
   "outputs": [
    {
     "name": "stdout",
     "output_type": "stream",
     "text": [
      "10\n",
      "20\n",
      "30\n",
      "40\n",
      "50\n",
      "60\n",
      "70\n",
      "80\n",
      "90\n",
      "100\n",
      "110\n",
      "120\n",
      "130\n",
      "140\n",
      "150\n",
      "160\n",
      "170\n",
      "180\n",
      "190\n",
      "200\n"
     ]
    }
   ],
   "source": [
    "#Check how run time grows as dimension of matrices grow\n",
    "#Multiply square matrices from 1 to 200\n",
    "\n",
    "runtimes = []\n",
    "\n",
    "for i in range(1,201):\n",
    "    \n",
    "    start = time.time()\n",
    "    multiply(matrix(i,i), matrix(i,i))\n",
    "    time_count = time.time() - start\n",
    "    \n",
    "    runtimes.append(time_count)\n",
    "    \n",
    "    if i % 10 == 0:\n",
    "        print(i)"
   ]
  },
  {
   "cell_type": "code",
   "execution_count": 61,
   "metadata": {},
   "outputs": [
    {
     "data": {
      "text/plain": [
       "(0, 7)"
      ]
     },
     "execution_count": 61,
     "metadata": {},
     "output_type": "execute_result"
    },
    {
     "data": {
      "image/png": "[encoded data removed]",
      "text/plain": [
       "<Figure size 432x288 with 1 Axes>"
      ]
     },
     "metadata": {},
     "output_type": "display_data"
    }
   ],
   "source": [
    "import matplotlib.pyplot as plt\n",
    "%matplotlib inline\n",
    "\n",
    "plt.style.use('ggplot')\n",
    "plt.bar(range(1,201), runtimes)\n",
    "\n",
    "plt.xlabel('Dimension of Square Matrix')\n",
    "plt.ylabel('Runtime (s)')\n",
    "plt.title('Naive Matrix Multiplication Algorithm Runtime')\n",
    "\n",
    "plt.xlim(0,210)\n",
    "plt.ylim(0,7)"
   ]
  }
 ],
 "metadata": {
  "kernelspec": {
   "display_name": "Python 3",
   "language": "python",
   "name": "python3"
  },
  "language_info": {
   "codemirror_mode": {
    "name": "ipython",
    "version": 3
   },
   "file_extension": ".py",
   "mimetype": "text/x-python",
   "name": "python",
   "nbconvert_exporter": "python",
   "pygments_lexer": "ipython3",
   "version": "3.6.4"
  }
 },
 "nbformat": 4,
 "nbformat_minor": 2
}
