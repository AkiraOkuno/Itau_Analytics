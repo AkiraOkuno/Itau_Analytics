{
 "cells": [
  {
   "cell_type": "markdown",
   "metadata": {},
   "source": [
    "# Naîve Matrix Multiplication"
   ]
  },
  {
   "cell_type": "code",
   "execution_count": 4,
   "metadata": {},
   "outputs": [],
   "source": [
    "import numpy as np\n",
    "\n",
    "# Generate random matrix of dimension N x k\n",
    "\n",
    "def matrix(n,k):\n",
    "    return np.random.rand(n,k)"
   ]
  },
  {
   "cell_type": "code",
   "execution_count": 20,
   "metadata": {},
   "outputs": [],
   "source": [
    "def multiply(A,B):\n",
    "    \n",
    "    # matrices must be in order of multiplication because AB ! BA\n",
    "        \n",
    "    A_rows = A.shape[0]\n",
    "    A_cols = A.shape[1]\n",
    "    B_rows = B.shape[0]\n",
    "    B_cols = B.shape[1]\n",
    "    \n",
    "    # Create empty zeroes matrix\n",
    "    \n",
    "    C = np.zeros((A_rows, B_cols))\n",
    "    \n",
    "    #check if columns(A) == rows(B)\n",
    "\n",
    "    if A_cols != B_rows:\n",
    "        print(\"Incompatible dimensions. Check if columns(A) equals row(B)\")\n",
    "    \n",
    "    #Loop in each row of A\n",
    "        #Loop in each column of b\n",
    "            #Loop in 1:n_cols_of_A (=n_rows_of_B)\n",
    "                #multiply and sum\n",
    "    \n",
    "    else:\n",
    "        for i in range(A_rows):\n",
    "            for j in range(B_cols):\n",
    "                for k in range(A_cols):\n",
    "                    C[i,j] += A[i,k]*B[k,j]\n",
    "    \n",
    "    return C"
   ]
  },
  {
   "cell_type": "code",
   "execution_count": 18,
   "metadata": {},
   "outputs": [
    {
     "data": {
      "text/plain": [
       "array([[ 1.60797302,  0.49171798,  0.65443366],\n",
       "       [ 1.27512592,  0.49326727,  0.49687351],\n",
       "       [ 1.91146173,  0.57579208,  0.80685588]])"
      ]
     },
     "execution_count": 18,
     "metadata": {},
     "output_type": "execute_result"
    }
   ],
   "source": [
    "A = matrix(3,3)\n",
    "B = matrix(3,3)\n",
    "C = A.dot(B)\n",
    "\n",
    "C"
   ]
  },
  {
   "cell_type": "code",
   "execution_count": 21,
   "metadata": {},
   "outputs": [
    {
     "data": {
      "text/plain": [
       "array([[ 1.60797302,  0.49171798,  0.65443366],\n",
       "       [ 1.27512592,  0.49326727,  0.49687351],\n",
       "       [ 1.91146173,  0.57579208,  0.80685588]])"
      ]
     },
     "execution_count": 21,
     "metadata": {},
     "output_type": "execute_result"
    }
   ],
   "source": [
    "#Check if the result matches the real value\n",
    "multiply(A,B)"
   ]
  },
  {
   "cell_type": "code",
   "execution_count": 36,
   "metadata": {},
   "outputs": [],
   "source": [
    "#sample code to store code run time\n",
    "\n",
    "import time\n",
    "\n",
    "start = time.time()\n",
    "multiply(matrix(200,200), matrix(200,200))\n",
    "time_count = time.time() - start"
   ]
  },
  {
   "cell_type": "code",
   "execution_count": 37,
   "metadata": {},
   "outputs": [
    {
     "data": {
      "text/plain": [
       "6.274398565292358"
      ]
     },
     "execution_count": 37,
     "metadata": {},
     "output_type": "execute_result"
    }
   ],
   "source": [
    "time_count"
   ]
  },
  {
   "cell_type": "code",
   "execution_count": 40,
   "metadata": {},
   "outputs": [
    {
     "name": "stdout",
     "output_type": "stream",
     "text": [
      "10\n",
      "20\n",
      "30\n",
      "40\n",
      "50\n",
      "60\n",
      "70\n",
      "80\n",
      "90\n",
      "100\n",
      "110\n",
      "120\n",
      "130\n",
      "140\n",
      "150\n",
      "160\n",
      "170\n",
      "180\n",
      "190\n",
      "200\n"
     ]
    }
   ],
   "source": [
    "#Check how run time grows as dimension of matrices grow\n",
    "#Multiply square matrices from 1 to 200\n",
    "\n",
    "runtimes = []\n",
    "\n",
    "for i in range(1,201):\n",
    "    \n",
    "    start = time.time()\n",
    "    multiply(matrix(i,i), matrix(i,i))\n",
    "    time_count = time.time() - start\n",
    "    \n",
    "    runtimes.append(time_count)\n",
    "    \n",
    "    if i % 10 == 0:\n",
    "        print(i)"
   ]
  },
  {
   "cell_type": "code",
   "execution_count": 61,
   "metadata": {},
   "outputs": [
    {
     "data": {
      "text/plain": [
       "(0, 7)"
      ]
     },
     "execution_count": 61,
     "metadata": {},
     "output_type": "execute_result"
    },
    {
     "data": {
      "image/png": "[encoded data removed]",
      "text/plain": [
       "<Figure size 432x288 with 1 Axes>"
      ]
     },
     "metadata": {},
     "output_type": "display_data"
    }
   ],
   "source": [
    "import matplotlib.pyplot as plt\n",
    "%matplotlib inline\n",
    "\n",
    "plt.style.use('ggplot')\n",
    "plt.bar(range(1,201), runtimes)\n",
    "\n",
    "plt.xlabel('Dimension of Square Matrix')\n",
    "plt.ylabel('Runtime (s)')\n",
    "plt.title('Naive Matrix Multiplication Algorithm Runtime')\n",
    "\n",
    "plt.xlim(0,210)\n",
    "plt.ylim(0,7)"
   ]
  },
  {
   "cell_type": "markdown",
   "metadata": {},
   "source": [
    "### Comparison with numpy dot method"
   ]
  },
  {
   "cell_type": "code",
   "execution_count": 92,
   "metadata": {},
   "outputs": [
    {
     "name": "stdout",
     "output_type": "stream",
     "text": [
      "10\n",
      "20\n",
      "30\n",
      "40\n",
      "50\n",
      "60\n",
      "70\n",
      "80\n",
      "90\n",
      "100\n",
      "110\n",
      "120\n",
      "130\n",
      "140\n",
      "150\n",
      "160\n",
      "170\n",
      "180\n",
      "190\n",
      "200\n",
      "210\n",
      "220\n",
      "230\n",
      "240\n",
      "250\n",
      "260\n",
      "270\n",
      "280\n",
      "290\n",
      "300\n",
      "310\n",
      "320\n",
      "330\n",
      "340\n",
      "350\n",
      "360\n",
      "370\n",
      "380\n",
      "390\n",
      "400\n",
      "410\n",
      "420\n",
      "430\n",
      "440\n",
      "450\n",
      "460\n",
      "470\n",
      "480\n",
      "490\n",
      "500\n",
      "510\n",
      "520\n",
      "530\n",
      "540\n",
      "550\n",
      "560\n",
      "570\n",
      "580\n",
      "590\n",
      "600\n",
      "610\n",
      "620\n",
      "630\n",
      "640\n",
      "650\n",
      "660\n",
      "670\n",
      "680\n",
      "690\n",
      "700\n",
      "710\n",
      "720\n",
      "730\n",
      "740\n",
      "750\n",
      "760\n",
      "770\n",
      "780\n",
      "790\n",
      "800\n",
      "810\n",
      "820\n",
      "830\n",
      "840\n",
      "850\n",
      "860\n",
      "870\n",
      "880\n",
      "890\n",
      "900\n",
      "910\n",
      "920\n",
      "930\n",
      "940\n",
      "950\n",
      "960\n",
      "970\n",
      "980\n",
      "990\n",
      "1000\n"
     ]
    }
   ],
   "source": [
    "np_runtime= []\n",
    "\n",
    "for i in range(1,1001):\n",
    "    \n",
    "    start = time.time()\n",
    "    matrix(i,i).dot(matrix(i,i))\n",
    "    time_count = time.time() - start\n",
    "    \n",
    "    np_runtime.append(time_count)\n",
    "    \n",
    "    if i % 10 == 0:\n",
    "        print(i)"
   ]
  },
  {
   "cell_type": "code",
   "execution_count": 94,
   "metadata": {},
   "outputs": [
    {
     "data": {
      "text/plain": [
       "Text(0.5,1,'Numpy Matrix Multiplication Runtime')"
      ]
     },
     "execution_count": 94,
     "metadata": {},
     "output_type": "execute_result"
    },
    {
     "data": {
      "image/png": "[encoded data removed]",
      "text/plain": [
       "<Figure size 432x288 with 1 Axes>"
      ]
     },
     "metadata": {},
     "output_type": "display_data"
    }
   ],
   "source": [
    "plt.style.use('ggplot')\n",
    "plt.bar(range(1,1001), np_runtime)\n",
    "\n",
    "plt.xlabel('Dimension of Square Matrix')\n",
    "plt.ylabel('Runtime (s)')\n",
    "plt.title('Numpy Matrix Multiplication Runtime')\n",
    "\n",
    "#plt.xlim(0,210)\n",
    "#plt.ylim(0,7)"
   ]
  },
  {
   "cell_type": "markdown",
   "metadata": {},
   "source": [
    "# Other algorithms\n",
    "\n",
    "## Strassen Algorithm: 2x2 Case"
   ]
  },
  {
   "cell_type": "code",
   "execution_count": 159,
   "metadata": {},
   "outputs": [],
   "source": [
    "def strassen(A,B):\n",
    "    \n",
    "    if A.shape[0] == 1:\n",
    "        mult = A*B\n",
    "    else:\n",
    "        p1 = A[0,0]*(B[0,1]-B[1,1])\n",
    "        p2 = (A[0,0]+A[0,1])*B[1,1] \n",
    "        p3 = (A[1,0]+A[1,1])*B[0,0]\n",
    "        p4 = A[1,1]*(B[1,0]-B[0,0])\n",
    "        p5 = (A[0,0]+A[1,1])*(B[0,0]+B[1,1])\n",
    "        p6 = (A[0,1]-A[1,1])*(B[1,0]+B[1,1])\n",
    "        p7 = (A[0,0]-A[1,0])*(B[0,0]+B[0,1])\n",
    "\n",
    "        mult = np.matrix([[p5+p4-p2+p6, p1+p2],[p3+p4,p1+p5-p3-p7]])\n",
    "    return mult"
   ]
  },
  {
   "cell_type": "code",
   "execution_count": 212,
   "metadata": {},
   "outputs": [],
   "source": [
    "A = matrix(2,2)\n",
    "B = matrix(2,2)"
   ]
  },
  {
   "cell_type": "code",
   "execution_count": 213,
   "metadata": {},
   "outputs": [
    {
     "data": {
      "text/plain": [
       "array([[ 0.1123171 ,  0.20124155],\n",
       "       [ 0.22031366,  0.24754482]])"
      ]
     },
     "execution_count": 213,
     "metadata": {},
     "output_type": "execute_result"
    }
   ],
   "source": [
    "A.dot(B)"
   ]
  },
  {
   "cell_type": "code",
   "execution_count": 132,
   "metadata": {},
   "outputs": [],
   "source": [
    "from math import ceil,log"
   ]
  },
  {
   "cell_type": "markdown",
   "metadata": {},
   "source": [
    "## Strassen Algorithm: $2^k$ Case"
   ]
  },
  {
   "cell_type": "code",
   "execution_count": 235,
   "metadata": {},
   "outputs": [],
   "source": [
    "def strassen2k(A,B):\n",
    "    #n: dimension of the matrix being n = 2^k\n",
    "    n = A.shape[0]\n",
    "    \n",
    "    if n <= 2:\n",
    "        mult = strassen(A,B)\n",
    "    \n",
    "    else:\n",
    "        \n",
    "        k = int(n/2)\n",
    "        \n",
    "        C11 = strassen2k(A[:k, :k], B[:k, :k]) + strassen2k(A[:k, k:], B[k:, :k])\n",
    "        C12 = strassen2k(A[:k, :k], B[:k, k:]) + strassen2k(A[:k, k:], B[k:, k:])\n",
    "        C21 = strassen2k(A[k:, :k], B[:k, :k]) + strassen2k(A[k:, k:], B[k:, :k])\n",
    "        C22 = strassen2k(A[k:, :k], B[:k, k:]) + strassen2k(A[k:, k:], B[k:, k:])\n",
    "        \n",
    "        C = np.zeros((n,n))\n",
    "        \n",
    "        C[:k, :k] = C11\n",
    "        C[:k, k:] = C12\n",
    "        C[k:, :k] = C21\n",
    "        C[k:, k:] = C22\n",
    "        \n",
    "        mult = C\n",
    "    \n",
    "    return mult"
   ]
  },
  {
   "cell_type": "code",
   "execution_count": 217,
   "metadata": {},
   "outputs": [],
   "source": [
    "A = matrix(4,4)\n",
    "B = matrix(4,4)"
   ]
  },
  {
   "cell_type": "code",
   "execution_count": 218,
   "metadata": {},
   "outputs": [
    {
     "data": {
      "text/plain": [
       "array([[ 0.96709907,  0.87124788,  1.16610796,  0.68234363],\n",
       "       [ 0.44606534,  0.25166153,  0.44730012,  0.26666944],\n",
       "       [ 0.91592916,  0.51097905,  0.93869369,  0.50437938],\n",
       "       [ 0.90749677,  0.70118001,  0.93324436,  0.7248845 ]])"
      ]
     },
     "execution_count": 218,
     "metadata": {},
     "output_type": "execute_result"
    }
   ],
   "source": [
    "strassen2k(A,B)"
   ]
  },
  {
   "cell_type": "code",
   "execution_count": 219,
   "metadata": {},
   "outputs": [
    {
     "data": {
      "text/plain": [
       "array([[ 0.96709907,  0.87124788,  1.16610796,  0.68234363],\n",
       "       [ 0.44606534,  0.25166153,  0.44730012,  0.26666944],\n",
       "       [ 0.91592916,  0.51097905,  0.93869369,  0.50437938],\n",
       "       [ 0.90749677,  0.70118001,  0.93324436,  0.7248845 ]])"
      ]
     },
     "execution_count": 219,
     "metadata": {},
     "output_type": "execute_result"
    }
   ],
   "source": [
    "A.dot(B)"
   ]
  },
  {
   "cell_type": "code",
   "execution_count": 220,
   "metadata": {},
   "outputs": [
    {
     "name": "stdout",
     "output_type": "stream",
     "text": [
      "2\n",
      "3\n",
      "4\n",
      "5\n",
      "6\n",
      "7\n",
      "8\n"
     ]
    }
   ],
   "source": [
    "strassen_runtime = []\n",
    "naive_runtime = []\n",
    "\n",
    "for i in range(2,9):\n",
    "    \n",
    "    k = 2 ** i\n",
    "    \n",
    "    A = matrix(k,k)\n",
    "    B = matrix(k,k)\n",
    "    \n",
    "    start = time.time()\n",
    "    strassen2k(A,B)\n",
    "    time_count = time.time() - start\n",
    "    strassen_runtime.append(time_count)\n",
    "    \n",
    "    start = time.time()\n",
    "    multiply(A,B)\n",
    "    time_count = time.time() - start\n",
    "    naive_runtime.append(time_count)\n",
    "    \n",
    "    print(i)"
   ]
  },
  {
   "cell_type": "code",
   "execution_count": 223,
   "metadata": {},
   "outputs": [
    {
     "data": {
      "image/png": "[encoded data removed]",
      "text/plain": [
       "<Figure size 432x288 with 1 Axes>"
      ]
     },
     "metadata": {},
     "output_type": "display_data"
    }
   ],
   "source": [
    "plt.style.use('ggplot')\n",
    "\n",
    "n_groups = 8\n",
    "fig, ax = plt.subplots()\n",
    "\n",
    "index = np.arange(n_groups)\n",
    "bar_width = 0.35\n",
    "\n",
    "opacity = 0.4\n",
    "\n",
    "rects1 = ax.bar(index, tuple(strassen_runtime), bar_width,\n",
    "                alpha=1, color='r',\n",
    "                label='Strassen Algorithm')\n",
    "\n",
    "rects2 = ax.bar(index, tuple(naive_runtime), bar_width,\n",
    "                alpha=1, color='b',\n",
    "                label='Naive Algorithm')\n",
    "\n",
    "ax.set_xlabel('Matriz size = 2^k')\n",
    "ax.set_ylabel('Runtime (s)')\n",
    "ax.set_title('Matrix Multiplication Algorithms Runtime')\n",
    "ax.set_xticks(index + bar_width / 2)\n",
    "ax.set_xticklabels(range(1,9))\n",
    "ax.legend()\n",
    "\n",
    "fig.tight_layout()"
   ]
  },
  {
   "cell_type": "markdown",
   "metadata": {},
   "source": [
    "## Winograd Algorithm"
   ]
  },
  {
   "cell_type": "code",
   "execution_count": 224,
   "metadata": {},
   "outputs": [],
   "source": [
    "def winograd(A,B):\n",
    "    \n",
    "    if A.shape[0] == 1:\n",
    "        mult = A*B\n",
    "        \n",
    "    else:\n",
    "        x1 = A[1,0] + A[1,1]\n",
    "        x2 = x1 - A[0,0]\n",
    "        x3 = A[0,0] - A[1,0]\n",
    "        x4 = A[0,1] - x2\n",
    "        x5 = B[0,1] - B[0,0]\n",
    "        x6 = B[1,1] - x5\n",
    "        x7 = B[1,1] - B[0,1]\n",
    "        x8 = x6 - B[1,0]\n",
    "        \n",
    "        y1 = x2*x6\n",
    "        y2 = A[0,0]*B[0,0]\n",
    "        y3 = A[0,1]*B[1,0]\n",
    "        y4 = x3*x7\n",
    "        y5 = x1*x5\n",
    "        y6 = x4*B[1,1]\n",
    "        y7 = A[1,1]*x8\n",
    "        \n",
    "        z1 = y1 + y2\n",
    "        z2 = z1 + y4\n",
    "        \n",
    "        C = np.zeros((2,2))\n",
    "        \n",
    "        C[0,0] = y2 + y3\n",
    "        C[0,1] = z1 + y5 + y6\n",
    "        C[1,0] = z2 - y7\n",
    "        C[1,1] = z2 + y5\n",
    "        \n",
    "        mult = C\n",
    "        \n",
    "    return mult\n"
   ]
  },
  {
   "cell_type": "code",
   "execution_count": 225,
   "metadata": {},
   "outputs": [],
   "source": [
    "A = matrix(2,2)\n",
    "B = matrix(2,2)"
   ]
  },
  {
   "cell_type": "code",
   "execution_count": 226,
   "metadata": {},
   "outputs": [
    {
     "data": {
      "text/plain": [
       "array([[ 0.06934001,  0.32270988],\n",
       "       [ 0.21440885,  0.91948947]])"
      ]
     },
     "execution_count": 226,
     "metadata": {},
     "output_type": "execute_result"
    }
   ],
   "source": [
    "winograd(A,B)"
   ]
  },
  {
   "cell_type": "code",
   "execution_count": 227,
   "metadata": {},
   "outputs": [
    {
     "data": {
      "text/plain": [
       "array([[ 0.06934001,  0.32270988],\n",
       "       [ 0.21440885,  0.91948947]])"
      ]
     },
     "execution_count": 227,
     "metadata": {},
     "output_type": "execute_result"
    }
   ],
   "source": [
    "A.dot(B)"
   ]
  },
  {
   "cell_type": "code",
   "execution_count": 228,
   "metadata": {},
   "outputs": [],
   "source": [
    "def winograd2k(A,B):\n",
    "    #n: dimension of the matrix being n = 2^k\n",
    "    n = A.shape[0]\n",
    "    \n",
    "    if n <= 2:\n",
    "        mult = winograd(A,B)\n",
    "    \n",
    "    else:\n",
    "        \n",
    "        k = int(n/2)\n",
    "        \n",
    "        C11 = winograd2k(A[:k, :k], B[:k, :k]) + winograd2k(A[:k, k:], B[k:, :k])\n",
    "        C12 = winograd2k(A[:k, :k], B[:k, k:]) + winograd2k(A[:k, k:], B[k:, k:])\n",
    "        C21 = winograd2k(A[k:, :k], B[:k, :k]) + winograd2k(A[k:, k:], B[k:, :k])\n",
    "        C22 = winograd2k(A[k:, :k], B[:k, k:]) + winograd2k(A[k:, k:], B[k:, k:])\n",
    "        \n",
    "        C = np.zeros((n,n))\n",
    "        \n",
    "        C[:k, :k] = C11\n",
    "        C[:k, k:] = C12\n",
    "        C[k:, :k] = C21\n",
    "        C[k:, k:] = C22\n",
    "        \n",
    "        mult = C\n",
    "    \n",
    "    return mult"
   ]
  },
  {
   "cell_type": "code",
   "execution_count": 229,
   "metadata": {},
   "outputs": [],
   "source": [
    "A = matrix(4,4)\n",
    "B = matrix(4,4)"
   ]
  },
  {
   "cell_type": "code",
   "execution_count": 230,
   "metadata": {},
   "outputs": [
    {
     "data": {
      "text/plain": [
       "array([[ 0.42966341,  1.40212541,  1.5164308 ,  1.0929263 ],\n",
       "       [ 0.45899625,  1.45645059,  1.85444723,  1.43647783],\n",
       "       [ 0.41380589,  1.45423761,  1.66975223,  1.00806058],\n",
       "       [ 0.31214578,  0.9203754 ,  1.16881302,  0.74752394]])"
      ]
     },
     "execution_count": 230,
     "metadata": {},
     "output_type": "execute_result"
    }
   ],
   "source": [
    "winograd2k(A,B)"
   ]
  },
  {
   "cell_type": "code",
   "execution_count": 231,
   "metadata": {},
   "outputs": [
    {
     "data": {
      "text/plain": [
       "array([[ 0.42966341,  1.40212541,  1.5164308 ,  1.0929263 ],\n",
       "       [ 0.45899625,  1.45645059,  1.85444723,  1.43647783],\n",
       "       [ 0.41380589,  1.45423761,  1.66975223,  1.00806058],\n",
       "       [ 0.31214578,  0.9203754 ,  1.16881302,  0.74752394]])"
      ]
     },
     "execution_count": 231,
     "metadata": {},
     "output_type": "execute_result"
    }
   ],
   "source": [
    "A.dot(B)"
   ]
  },
  {
   "cell_type": "code",
   "execution_count": 259,
   "metadata": {},
   "outputs": [
    {
     "name": "stdout",
     "output_type": "stream",
     "text": [
      "1\n",
      "2\n",
      "3\n",
      "4\n",
      "5\n",
      "6\n",
      "7\n",
      "8\n"
     ]
    }
   ],
   "source": [
    "strassen_runtime = []\n",
    "winograd_runtime = []\n",
    "naive_runtime = []\n",
    "\n",
    "for i in range(1,9):\n",
    "    \n",
    "    k = 2 ** i\n",
    "    \n",
    "    A = matrix(k,k)\n",
    "    B = matrix(k,k)\n",
    "    \n",
    "    start = time.time()\n",
    "    strassen2k(A,B)\n",
    "    time_count = time.time() - start\n",
    "    strassen_runtime.append(time_count)\n",
    "    \n",
    "    start = time.time()\n",
    "    multiply(A,B)\n",
    "    time_count = time.time() - start\n",
    "    naive_runtime.append(time_count)\n",
    "    \n",
    "    start = time.time()\n",
    "    winograd2k(A,B)\n",
    "    time_count = time.time() - start\n",
    "    winograd_runtime.append(time_count)\n",
    "    \n",
    "    print(i)"
   ]
  },
  {
   "cell_type": "code",
   "execution_count": 263,
   "metadata": {},
   "outputs": [
    {
     "data": {
      "image/png": "[encoded data removed]",
      "text/plain": [
       "<Figure size 432x288 with 1 Axes>"
      ]
     },
     "metadata": {},
     "output_type": "display_data"
    }
   ],
   "source": [
    "plt.style.use('ggplot')\n",
    "\n",
    "n_groups = 8\n",
    "fig, ax = plt.subplots()\n",
    "\n",
    "index = np.arange(n_groups)\n",
    "bar_width = 0.35\n",
    "\n",
    "opacity = 0.4\n",
    "\n",
    "rects1 = ax.bar(index, tuple(strassen_runtime), bar_width,\n",
    "                alpha=1, color='r',\n",
    "                label='Strassen Algorithm')\n",
    "\n",
    "rects2 = ax.bar(index, tuple(winograd_runtime), bar_width,\n",
    "                alpha=1, color='g',\n",
    "                label='Winograd Algorithm')\n",
    "\n",
    "rects3 = ax.bar(index, tuple(naive_runtime), bar_width,\n",
    "                alpha=1, color='b',\n",
    "                label='Naive Algorithm')\n",
    "\n",
    "ax.set_xlabel('Matriz size = 2^k')\n",
    "ax.set_ylabel('Runtime (s)')\n",
    "ax.set_title('Matrix Multiplication Algorithms Runtime')\n",
    "ax.set_xticks(index + bar_width / 2)\n",
    "ax.set_xticklabels(range(1,9))\n",
    "ax.legend()\n",
    "\n",
    "fig.tight_layout()"
   ]
  },
  {
   "cell_type": "code",
   "execution_count": 265,
   "metadata": {},
   "outputs": [
    {
     "name": "stdout",
     "output_type": "stream",
     "text": [
      "Wall time: 2min 23s\n"
     ]
    },
    {
     "data": {
      "text/plain": [
       "array([[ 133.41955439,  129.03028104,  129.85529774, ...,  122.14694355,\n",
       "         130.54709375,  127.67763708],\n",
       "       [ 127.52219497,  129.8135614 ,  131.36477632, ...,  124.07282892,\n",
       "         132.7964671 ,  128.90218373],\n",
       "       [ 130.15603634,  128.10114131,  130.99945583, ...,  124.26652597,\n",
       "         128.40134114,  126.77880184],\n",
       "       ..., \n",
       "       [ 128.19325053,  127.16920322,  131.61231397, ...,  125.73357864,\n",
       "         128.83071119,  124.48801214],\n",
       "       [ 127.51235418,  129.60247443,  127.44645573, ...,  122.60412204,\n",
       "         124.57329361,  127.80711921],\n",
       "       [ 133.70528434,  131.22391123,  133.82299511, ...,  128.30847671,\n",
       "         131.25208298,  132.55541221]])"
      ]
     },
     "execution_count": 265,
     "metadata": {},
     "output_type": "execute_result"
    }
   ],
   "source": [
    "%%time\n",
    "winograd2k(matrix(512,512), matrix(512,512))"
   ]
  },
  {
   "cell_type": "code",
   "execution_count": 271,
   "metadata": {},
   "outputs": [
    {
     "name": "stdout",
     "output_type": "stream",
     "text": [
      "Wall time: 6.17 s\n"
     ]
    },
    {
     "data": {
      "text/plain": [
       "array([[ 1398.05812608,  1385.88438134,  1380.21624481, ...,\n",
       "         1395.48426019,  1389.12283398,  1384.65559739],\n",
       "       [ 1367.69151997,  1377.278885  ,  1368.96396371, ...,\n",
       "         1380.71785289,  1380.67610795,  1365.98844271],\n",
       "       [ 1373.56343748,  1379.64673214,  1353.53082808, ...,\n",
       "         1372.35329649,  1368.81418697,  1357.10898144],\n",
       "       ..., \n",
       "       [ 1394.67758237,  1390.020819  ,  1386.35260392, ...,\n",
       "         1394.04183788,  1405.41699082,  1382.17899587],\n",
       "       [ 1369.38556298,  1365.53996588,  1351.70799501, ...,\n",
       "         1379.74378165,  1374.31364139,  1368.43722429],\n",
       "       [ 1365.87620591,  1357.51119286,  1370.42550223, ...,\n",
       "         1370.36991432,  1369.03402427,  1361.56356923]])"
      ]
     },
     "execution_count": 271,
     "metadata": {},
     "output_type": "execute_result"
    }
   ],
   "source": [
    "%%time\n",
    "matrix(5512,5512).dot(matrix(5512,5512))"
   ]
  },
  {
   "cell_type": "code",
   "execution_count": 268,
   "metadata": {},
   "outputs": [
    {
     "name": "stdout",
     "output_type": "stream",
     "text": [
      "Wall time: 1min 56s\n"
     ]
    },
    {
     "data": {
      "text/plain": [
       "array([[ 128.95927806,  131.4985847 ,  135.01054817, ...,  132.43243073,\n",
       "         134.10091078,  126.65770817],\n",
       "       [ 127.46849341,  129.75986738,  135.10947346, ...,  135.19238037,\n",
       "         135.10907767,  127.91579021],\n",
       "       [ 127.41355043,  122.74530724,  123.42469876, ...,  126.36683966,\n",
       "         125.11537839,  118.94204304],\n",
       "       ..., \n",
       "       [ 124.41292073,  123.45428252,  129.65180349, ...,  129.21888856,\n",
       "         131.65918385,  123.12787925],\n",
       "       [ 128.20835301,  129.21002194,  129.8340566 , ...,  131.25858575,\n",
       "         134.3627736 ,  123.09455431],\n",
       "       [ 132.54918463,  131.5227657 ,  134.63285133, ...,  133.45519069,\n",
       "         134.98433105,  128.77536317]])"
      ]
     },
     "execution_count": 268,
     "metadata": {},
     "output_type": "execute_result"
    }
   ],
   "source": [
    "%%time\n",
    "multiply(matrix(512,512), matrix(512,512))"
   ]
  },
  {
   "cell_type": "code",
   "execution_count": null,
   "metadata": {},
   "outputs": [],
   "source": []
  }
 ],
 "metadata": {
  "kernelspec": {
   "display_name": "Python 3",
   "language": "python",
   "name": "python3"
  },
  "language_info": {
   "codemirror_mode": {
    "name": "ipython",
    "version": 3
   },
   "file_extension": ".py",
   "mimetype": "text/x-python",
   "name": "python",
   "nbconvert_exporter": "python",
   "pygments_lexer": "ipython3",
   "version": "3.6.4"
  }
 },
 "nbformat": 4,
 "nbformat_minor": 2
}
